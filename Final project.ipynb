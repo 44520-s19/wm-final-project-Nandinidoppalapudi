{
 "cells": [
  {
   "attachments": {},
   "cell_type": "markdown",
   "metadata": {},
   "source": [
    "# Final Project\n",
    "# Student Name : Nandini Doppalapudi\n",
    "### Goal of the project : How does city location affect the deviation in the forecasted temperatures?\n",
    "### Objective : In US, we have different time zones like Pacific, Central, Eastern. For each time zone the temperatures might vary drastically. So I selected three different cities from three different time zones to show the temperature deviation between them.\n",
    "\n"
   ]
  },
  {
   "attachments": {},
   "cell_type": "markdown",
   "metadata": {},
   "source": [
    "### Importing Requests and Beautiful soup\n",
    "- Requests is used to get the URL from the website. \n",
    "- BeautifulSoup is used to creates a parse tree for parsed pages that can be used to extract data from HTML which helps to scrap the data.\n",
    "\n",
    "### Importing Pandas\n",
    "\n",
    "- Pandas is used to store the data in a structured format. After getting the structured data then I used the regular expression to get the pattern  for the temperature list.\n",
    "\n",
    "\n"
   ]
  },
  {
   "cell_type": "markdown",
   "metadata": {},
   "source": [
    "## Description of Analysis Steps\n",
    "- Getting the URL from the website using request module.\n",
    "- Creating parse tree that can be used to extract the data from HTML.\n",
    "- Identified the exact \"id\" and \"class\" by inspecting the page.\n",
    "- find_all and find used to extract the data by using the elements from the html.\n",
    "- Data frame is used to keep the data in the structured format.  \n",
    "- Extracting the temperature numbers from the data in the structured format using regular expressions.\n",
    "- The above steps is done for three different cities Dallas, San Francisco, NewYork.\n",
    "- Using the results from all the three different cities, plotted a line graph.\n",
    "- The conclusion is drawn from the plotted line graph\n",
    "\n",
    "\n",
    "\n",
    "### The Below is for the Dallas which is in central Time Zone"
   ]
  },
  {
   "cell_type": "code",
   "execution_count": 1,
   "metadata": {},
   "outputs": [
    {
     "name": "stdout",
     "output_type": "stream",
     "text": [
      "Period names in Dallas(central time zone):\n",
      "  ['Overnight', 'Tuesday', 'TuesdayNight', 'Wednesday', 'WednesdayNight', 'IndependenceDay', 'ThursdayNight', 'Friday', 'FridayNight']\n",
      "Temperature in Dallas(central time zone):\n",
      "  ['Low: 75 °F', 'High: 92 °F', 'Low: 74 °F', 'High: 90 °F', 'Low: 75 °F', 'High: 91 °F', 'Low: 75 °F', 'High: 93 °F', 'Low: 76 °F']\n"
     ]
    }
   ],
   "source": [
    "import requests\n",
    "from bs4 import BeautifulSoup\n",
    "\n",
    "page=requests.get('https://forecast.weather.gov/MapClick.php?lat=32.7782&lon=-96.7954#.XRqLpIhKjIU')\n",
    "soup=BeautifulSoup(page.content,'html5lib')\n",
    "\n",
    "week=soup.find_all(id='seven-day-forecast-body')\n",
    "items=soup.find_all(class_='tombstone-container')\n",
    "\n",
    "period_names=[item.find(class_='period-name').get_text() for item in items]\n",
    "print(\"Period names in Dallas(central time zone):\\n \",period_names)\n",
    "    \n",
    "temperatures=[item.find(class_='temp').get_text() for item in items]\n",
    "print(\"Temperature in Dallas(central time zone):\\n \",temperatures)"
   ]
  },
  {
   "cell_type": "code",
   "execution_count": 2,
   "metadata": {},
   "outputs": [
    {
     "name": "stdout",
     "output_type": "stream",
     "text": [
      "Extracting temperaure numbers using Regular Expressions: [75, 92, 74, 90, 75, 91, 75, 93, 76]\n"
     ]
    }
   ],
   "source": [
    "import pandas as pd\n",
    "weather = pd.DataFrame({\n",
    "\"period\": period_names,\n",
    "\"temp\": temperatures\n",
    "})\n",
    "\n",
    "temp_nums_Dallas = weather[\"temp\"].str.extract(\"(?P<temp_num>\\d+)\", expand=False)\n",
    "weather[\"temp_num\"] = temp_nums_Dallas.astype('int')\n",
    "\n",
    "temp_nums_Dallas1=[]\n",
    "for x in temp_nums_Dallas:\n",
    "    temp_nums_Dallas1.append(int(x))\n",
    "print(\"Extracting temperaure numbers using Regular Expressions:\",temp_nums_Dallas1)\n"
   ]
  },
  {
   "cell_type": "markdown",
   "metadata": {},
   "source": [
    "### The Below is for the San Francisco which is in Pacific Time Zone"
   ]
  },
  {
   "cell_type": "code",
   "execution_count": 3,
   "metadata": {},
   "outputs": [
    {
     "name": "stdout",
     "output_type": "stream",
     "text": [
      "The period names in San Francisco(Pacific time zone): \n",
      " ['Overnight', 'Tuesday', 'TuesdayNight', 'Wednesday', 'WednesdayNight', 'IndependenceDay', 'ThursdayNight', 'Friday', 'FridayNight']\n",
      "The temperatures in San Francisco(Pacific time zone): \n",
      " ['Low: 55 °F', 'High: 68 °F', 'Low: 55 °F', 'High: 68 °F', 'Low: 55 °F', 'High: 66 °F', 'Low: 55 °F', 'High: 69 °F', 'Low: 56 °F']\n"
     ]
    }
   ],
   "source": [
    "import requests\n",
    "from bs4 import BeautifulSoup\n",
    "\n",
    "page=requests.get('https://forecast.weather.gov/MapClick.php?lat=37.7771&lon=-122.4196#.XRqL0YhKjIU')\n",
    "soup=BeautifulSoup(page.content,'html5lib')\n",
    "week=soup.find_all(id='seven-day-forecast-body')\n",
    "\n",
    "items=soup.find_all(class_='tombstone-container')\n",
    "\n",
    "period_names_sanfrans=[item.find(class_='period-name').get_text() for item in items]\n",
    "print(\"The period names in San Francisco(Pacific time zone): \\n\",period_names_sanfrans)\n",
    "    \n",
    "temperatures_sanfrans=[item.find(class_='temp').get_text() for item in items]\n",
    "print(\"The temperatures in San Francisco(Pacific time zone): \\n\",temperatures_sanfrans)  "
   ]
  },
  {
   "cell_type": "code",
   "execution_count": 4,
   "metadata": {},
   "outputs": [
    {
     "name": "stdout",
     "output_type": "stream",
     "text": [
      "Extracting temperaure numbers using Regular Expressions:  [55, 68, 55, 68, 55, 66, 55, 69, 56]\n"
     ]
    }
   ],
   "source": [
    "import pandas as pd\n",
    "weather = pd.DataFrame({\n",
    "\"period\": period_names_sanfrans,\n",
    "\"temp\": temperatures_sanfrans\n",
    "})\n",
    "weather\n",
    "temp_nums_sanfrans = weather[\"temp\"].str.extract(\"(?P<temp_num>\\d+)\", expand=False)\n",
    "weather[\"temp_num\"] = temp_nums_sanfrans.astype('int')\n",
    "\n",
    "temp_nums_sanfrans1=[]\n",
    "for x in temp_nums_sanfrans:\n",
    "    temp_nums_sanfrans1.append(int(x))\n",
    "print(\"Extracting temperaure numbers using Regular Expressions: \",temp_nums_sanfrans1)"
   ]
  },
  {
   "cell_type": "markdown",
   "metadata": {},
   "source": [
    "### The Below is for the Newyork which is in Eastern Time Zone"
   ]
  },
  {
   "cell_type": "code",
   "execution_count": 5,
   "metadata": {},
   "outputs": [
    {
     "name": "stdout",
     "output_type": "stream",
     "text": [
      "The period names in the NewYork (Eastern time zone):\n",
      "  ['Today', 'Tonight', 'Wednesday', 'WednesdayNight', 'IndependenceDay', 'ThursdayNight', 'Friday', 'FridayNight', 'Saturday']\n",
      "The temperatures in the NewYork (Eastern time zone):\n",
      "  ['High: 88 °F', 'Low: 74 °F', 'High: 87 °F', 'Low: 73 °F', 'High: 85 °F', 'Low: 72 °F', 'High: 86 °F', 'Low: 75 °F', 'High: 87 °F']\n"
     ]
    }
   ],
   "source": [
    "import requests\n",
    "from bs4 import BeautifulSoup\n",
    "\n",
    "page=requests.get('https://forecast.weather.gov/MapClick.php?lat=40.7146&lon=-74.0071#.XRqL_ohKjIU')\n",
    "soup=BeautifulSoup(page.content,'html5lib')\n",
    "week=soup.find_all(id='seven-day-forecast-body')\n",
    "\n",
    "items=soup.find_all(class_='tombstone-container')\n",
    "\n",
    "period_names_newyork=[item.find(class_='period-name').get_text() for item in items]\n",
    "print(\"The period names in the NewYork (Eastern time zone):\\n \",period_names_newyork)\n",
    "\n",
    "\n",
    "temperatures_newyork=[item.find(class_='temp').get_text() for item in items]\n",
    "print(\"The temperatures in the NewYork (Eastern time zone):\\n \",temperatures_newyork)"
   ]
  },
  {
   "cell_type": "code",
   "execution_count": 6,
   "metadata": {},
   "outputs": [
    {
     "name": "stdout",
     "output_type": "stream",
     "text": [
      "Extracting temperaure numbers using Regular Expressions:  [88, 74, 87, 73, 85, 72, 86, 75, 87]\n"
     ]
    }
   ],
   "source": [
    "import pandas as pd\n",
    "weather = pd.DataFrame({\n",
    "\"period\": period_names_newyork,\n",
    "\"temp\": temperatures_newyork\n",
    "})\n",
    "weather\n",
    "temp_nums_newyork = weather[\"temp\"].str.extract(\"(?P<temp_num>\\d+)\", expand=False)\n",
    "weather[\"temp_num\"] = temp_nums_newyork.astype('int')\n",
    "\n",
    "temp_nums_newyork1=[]\n",
    "for x in temp_nums_newyork:\n",
    "    temp_nums_newyork1.append(int(x))\n",
    "print(\"Extracting temperaure numbers using Regular Expressions: \",temp_nums_newyork1)"
   ]
  },
  {
   "cell_type": "markdown",
   "metadata": {},
   "source": [
    "### Importing Matplotlib\n",
    "\n",
    "- In Matplotlib, pyplot used to visualize the data and I used the line graph in this project.\n"
   ]
  },
  {
   "cell_type": "code",
   "execution_count": 10,
   "metadata": {},
   "outputs": [
    {
     "data": {
      "image/png": "[encoded data removed]",
      "text/plain": [
       "<Figure size 432x288 with 1 Axes>"
      ]
     },
     "metadata": {},
     "output_type": "display_data"
    }
   ],
   "source": [
    "\n",
    "import matplotlib.pyplot as plt\n",
    "plt.style.use('seaborn-whitegrid')\n",
    "period_names=['Jul 1(noon)', 'Jul 1(night)', 'Jul 2', 'Jul 2(night)', 'Jul 3', 'Jul 3(night)', 'Jul 4', 'Jul 4(night)', 'Jul 5']\n",
    "plt.plot(period_names, temp_nums_Dallas1, color='g')\n",
    "plt.plot(period_names, temp_nums_sanfrans1, color='orange')\n",
    "plt.plot(period_names, temp_nums_newyork1, color='r')\n",
    "plt.legend(['Dallas', 'San Francisco','NewYork'], loc=4)\n",
    "plt.ylabel('Temperatures in Fahrenheit(°F)')\n",
    "plt.title('Temperature deviation for three different cities')\n",
    "plt.show()\n"
   ]
  },
  {
   "attachments": {},
   "cell_type": "markdown",
   "metadata": {},
   "source": [
    "### Conclusion\n",
    "\n",
    "- When I compared, New York being further north and on the coast and Dallas being central gives it some interesting deviation in temperatures.\n",
    "-  SF is further south so it's more consistent during day time and consistent during night time.\n",
    "- The interesting observation between Dallas and NewYork is, the temperatures of day time and night time has never coincided."
   ]
  }
 ],
 "metadata": {
  "kernelspec": {
   "display_name": "Python 3",
   "language": "python",
   "name": "python3"
  },
  "language_info": {
   "codemirror_mode": {
    "name": "ipython",
    "version": 3
   },
   "file_extension": ".py",
   "mimetype": "text/x-python",
   "name": "python",
   "nbconvert_exporter": "python",
   "pygments_lexer": "ipython3",
   "version": "3.7.3"
  }
 },
 "nbformat": 4,
 "nbformat_minor": 2
}
